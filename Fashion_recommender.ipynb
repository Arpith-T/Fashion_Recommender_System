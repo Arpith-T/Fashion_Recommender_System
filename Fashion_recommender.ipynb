{
 "cells": [
  {
   "cell_type": "markdown",
   "metadata": {},
   "source": [
    "# FASHION RECOMMENDER"
   ]
  },
  {
   "cell_type": "markdown",
   "metadata": {},
   "source": [
    "### PRE-REQUISITES:\n",
    "1. Deep Learning will be used here.\n",
    "    * CNN - Convolution Neural Network\n",
    "2. TRANSFER LEARNING.\n",
    "    * Here we will be using already `existing models`. which are `trained`.\n",
    "    * We wil be using `ResNET`, which is trained on `imageNET` dataset.\n",
    "    * Hence, here, we will not be training any model.\n"
   ]
  },
  {
   "cell_type": "markdown",
   "metadata": {},
   "source": [
    "## APPROACH:\n",
    "### 1. Importing a model\n",
    "* We wil be using `ResNET`, which is trained on `imageNET` dataset.\n",
    "* This is a `builtin` model in `Keras`.\n",
    "* this has a very high `Accuracy`.\n",
    "* we wont be training our own model here as its time consuming an we will not be able to reach as high of an accuracy as ResNET already is.\n",
    "* The `ResNET`mmodel will be used to `Extract Features`. which is our 2nd step.\n",
    "\n",
    "### 2. Extract Features\n",
    "* What do we mean by `Feature Extraction`?\n",
    "    * we have 44k images. in our recommender system , we take a single image and compare it with 44k images. and we will recommed 5 images out of 44k images which is close to the image that we load.\n",
    "    * For this to work, we need to analyze all the 44k images. which is expensive computationally.as there are 44k images, each with 224*224*3 pixel. 3 here refers to  (RGB)\n",
    "    * So, from every image we extract features and we compare these features with our image.\n",
    "    * > We will NOT be doing pixel to picel comparison between the products. But, Feature to Feature comparison\n",
    "    * CNN here is used for Feature Extraction.\n",
    "    * `ResNET` model wil give us the set of `2048 numbers` for every image that we pass. `2048` are the number features that this model will generate.\n",
    "    * We have 44k images and 2048 features for each image.\n",
    "    * we have 2D array for (44k, 2048)\n",
    "    * Each image will have 2048 features. each row is a `vector` with 2048 Dimension. So, we have ``44k vectors``.\n",
    "    * when we pass a new image to the ResNET model, it generates 2048 fetures and we map it in the co-ordinate system of 2048D space.\n",
    "    * we have 44k vectors alredy here, when we plat new vector here in the model. `We simply recommend the closest vectos`.\n",
    "    * > How will we calculate the closest vectors? by calculating the distance b/w the vectors. `Euclidian Distance`.\n",
    "    * >> `KNN` wil be used here to determine the `Nearest Neighbours`."
   ]
  },
  {
   "cell_type": "markdown",
   "metadata": {},
   "source": [
    "#### Dataset:\n",
    "Refer - https://www.kaggle.com/datasets/paramaggarwal/fashion-product-images-dataset\n",
    "Note: this is a 25Gb data set. hence, we will use the loghter version of this.\n",
    "Refer - https://www.kaggle.com/datasets/paramaggarwal/fashion-product-images-small"
   ]
  },
  {
   "cell_type": "markdown",
   "metadata": {},
   "source": []
  }
 ],
 "metadata": {
  "kernelspec": {
   "display_name": "Python 3.10.0 64-bit",
   "language": "python",
   "name": "python3"
  },
  "language_info": {
   "name": "python",
   "version": "3.10.0"
  },
  "orig_nbformat": 4,
  "vscode": {
   "interpreter": {
    "hash": "9bd0fc4b2fcfa9f0504e99f6ed2b70b8cc2ae0f011fec436151be9d0097b7c39"
   }
  }
 },
 "nbformat": 4,
 "nbformat_minor": 2
}
